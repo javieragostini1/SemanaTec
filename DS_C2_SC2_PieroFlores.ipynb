{
  "nbformat": 4,
  "nbformat_minor": 0,
  "metadata": {
    "colab": {
      "provenance": [],
      "authorship_tag": "ABX9TyM7IQk4vaGQFToKGRtGHcKX",
      "include_colab_link": true
    },
    "kernelspec": {
      "name": "python3",
      "display_name": "Python 3"
    },
    "language_info": {
      "name": "python"
    }
  },
  "cells": [
    {
      "cell_type": "markdown",
      "metadata": {
        "id": "view-in-github",
        "colab_type": "text"
      },
      "source": [
        "<a href=\"https://colab.research.google.com/github/javieragostini1/SemanaTec/blob/main/DS_C2_SC2_PieroFlores.ipynb\" target=\"_parent\"><img src=\"https://colab.research.google.com/assets/colab-badge.svg\" alt=\"Open In Colab\"/></a>"
      ]
    },
    {
      "cell_type": "code",
      "execution_count": 1,
      "metadata": {
        "colab": {
          "base_uri": "https://localhost:8080/"
        },
        "id": "GWSHhQuEtWJC",
        "outputId": "abe8ad36-3070-419e-d1ca-865f7c4e9d63"
      },
      "outputs": [
        {
          "output_type": "stream",
          "name": "stdout",
          "text": [
            "<class 'pandas.core.frame.DataFrame'>\n",
            "RangeIndex: 86512 entries, 0 to 86511\n",
            "Data columns (total 15 columns):\n",
            " #   Column                               Non-Null Count  Dtype  \n",
            "---  ------                               --------------  -----  \n",
            " 0   country                              86512 non-null  object \n",
            " 1   iso_code                             86512 non-null  object \n",
            " 2   date                                 86512 non-null  object \n",
            " 3   total_vaccinations                   43607 non-null  float64\n",
            " 4   people_vaccinated                    41294 non-null  float64\n",
            " 5   people_fully_vaccinated              38802 non-null  float64\n",
            " 6   daily_vaccinations_raw               35362 non-null  float64\n",
            " 7   daily_vaccinations                   86213 non-null  float64\n",
            " 8   total_vaccinations_per_hundred       43607 non-null  float64\n",
            " 9   people_vaccinated_per_hundred        41294 non-null  float64\n",
            " 10  people_fully_vaccinated_per_hundred  38802 non-null  float64\n",
            " 11  daily_vaccinations_per_million       86213 non-null  float64\n",
            " 12  vaccines                             86512 non-null  object \n",
            " 13  source_name                          86512 non-null  object \n",
            " 14  source_website                       86512 non-null  object \n",
            "dtypes: float64(9), object(6)\n",
            "memory usage: 9.9+ MB\n",
            "None\n",
            "                                             vaccines  total_vaccinations\n",
            "0   Abdala, Johnson&Johnson, Oxford/AstraZeneca, P...        1.784348e+08\n",
            "1   Abdala, Moderna, Oxford/AstraZeneca, Pfizer/Bi...        1.791450e+10\n",
            "2   Abdala, Sinopharm/Beijing, Sinovac, Soberana02...        4.228568e+08\n",
            "3                   Abdala, Soberana Plus, Soberana02        6.405166e+09\n",
            "4   COVIran Barekat, Covaxin, FAKHRAVAC, Oxford/As...        1.069480e+10\n",
            "..                                                ...                 ...\n",
            "79                 Pfizer/BioNTech, Sinovac, Turkovac        3.392310e+10\n",
            "80                         Pfizer/BioNTech, Sputnik V        3.863380e+06\n",
            "81               QazVac, Sinopharm/Beijing, Sputnik V        3.585429e+09\n",
            "82                                  Sinopharm/Beijing        3.080671e+07\n",
            "83                       Sinopharm/Beijing, Sputnik V        6.451243e+08\n",
            "\n",
            "[84 rows x 2 columns]\n",
            "Total vaccinations worldwide: 2002854013761.0\n",
            "               country  total_vaccinations\n",
            "0          Afghanistan        2.566118e+06\n",
            "1              Albania        1.191695e+06\n",
            "2              Algeria        9.956086e+06\n",
            "3              Andorra        5.827721e+04\n",
            "4               Angola        6.074066e+06\n",
            "..                 ...                 ...\n",
            "218              Wales        4.132861e+06\n",
            "219  Wallis and Futuna        9.142925e+03\n",
            "220              Yemen        4.794049e+05\n",
            "221             Zambia        1.048484e+06\n",
            "222           Zimbabwe        4.181618e+06\n",
            "\n",
            "[223 rows x 2 columns]\n",
            "Vaccinations on 29/01/2021: 4884052.0\n",
            "Date range: 482 days 00:00:00\n"
          ]
        }
      ],
      "source": [
        "# Importar las bibliotecas necesarias\n",
        "import pandas as pd\n",
        "import numpy as np\n",
        "\n",
        "# a. Extraer la información del archivo\n",
        "file_path = 'country_vaccinations.csv'\n",
        "df = pd.read_csv(file_path)\n",
        "\n",
        "# b. Mostrar la estructura y tipos de datos de cada columna\n",
        "print(df.info())\n",
        "\n",
        "# Asegúrate de convertir las columnas de fechas al tipo datetime64\n",
        "df['date'] = pd.to_datetime(df['date'])\n",
        "\n",
        "# c. Determinar la cantidad de vacunas aplicadas de cada compañía\n",
        "vaccine_summary = df.groupby('vaccines')['total_vaccinations'].sum().reset_index()\n",
        "print(vaccine_summary)\n",
        "\n",
        "# d. Obtener la cantidad de vacunas aplicadas en todo el mundo\n",
        "total_vaccinations_worldwide = df['total_vaccinations'].sum()\n",
        "print(f'Total vaccinations worldwide: {total_vaccinations_worldwide}')\n",
        "\n",
        "# e. Calcular el promedio de vacunas aplicadas por país\n",
        "average_vaccinations_per_country = df.groupby('country')['total_vaccinations'].mean().reset_index()\n",
        "print(average_vaccinations_per_country)\n",
        "\n",
        "# f. Determinar la cantidad de vacunas aplicadas el día 29/01/21 en todo el mundo\n",
        "vaccinations_on_date = df[df['date'] == '2021-01-29']['daily_vaccinations'].sum()\n",
        "print(f'Vaccinations on 29/01/2021: {vaccinations_on_date}')\n",
        "\n",
        "# g. Crear un dataframe con diferencias entre daily_vaccinations y daily_vaccinations_raw\n",
        "df['diferencias'] = df['daily_vaccinations'] - df['daily_vaccinations_raw']\n",
        "conDiferencias = df.copy()\n",
        "\n",
        "# h. Obtener el periodo de tiempo entre el registro más reciente y el más antiguo\n",
        "date_range = df['date'].max() - df['date'].min()\n",
        "print(f'Date range: {date_range}')\n",
        "\n",
        "# i. Crear un dataframe con la cantidad de vacunas utilizadas cada día\n",
        "def count_vaccines(vaccine_list):\n",
        "    return len(vaccine_list.split(', '))\n",
        "\n",
        "df['canVac'] = df['vaccines'].apply(count_vaccines)\n",
        "conCantidad = df.copy()\n",
        "\n",
        "# j. Generar un dataframe con registros antes del 20 de diciembre de 2020\n",
        "antes20 = df[df['date'] < '2020-12-20']\n",
        "\n",
        "# k. Obtener un dataframe con registros donde se haya utilizado la vacuna Pfizer\n",
        "pfizer = df[df['vaccines'].str.contains('Pfizer')]\n",
        "\n",
        "# l. Almacenar los dataframes generados en un archivo de Excel\n",
        "with pd.ExcelWriter('resultadosReto.xlsx') as writer:\n",
        "    conDiferencias.to_excel(writer, sheet_name='conDiferencias', index=False)\n",
        "    conCantidad.to_excel(writer, sheet_name='conCantidad', index=False)\n",
        "    antes20.to_excel(writer, sheet_name='antes20', index=False)\n",
        "    pfizer.to_excel(writer, sheet_name='pfizer', index=False)\n"
      ]
    }
  ]
}